{
  "cells": [
    {
      "cell_type": "markdown",
      "source": [
        "Start by Importing Libraries"
      ],
      "metadata": {
        "id": "UM-uunfMQIkm"
      }
    },
    {
      "cell_type": "code",
      "execution_count": null,
      "metadata": {
        "colab": {
          "base_uri": "https://localhost:8080/"
        },
        "id": "FiQbKlX8mAjd",
        "outputId": "10c967b9-22ce-4244-d871-576fb5b9beaa"
      },
      "outputs": [
        {
          "output_type": "stream",
          "name": "stderr",
          "text": [
            "[nltk_data] Downloading package stopwords to /root/nltk_data...\n",
            "[nltk_data]   Unzipping corpora/stopwords.zip.\n"
          ]
        }
      ],
      "source": [
        "# importing all necessary libraries to run the code\n",
        "import pandas as pd\n",
        "import numpy as np\n",
        "import matplotlib.pyplot as plt\n",
        "import nltk\n",
        "nltk.download('stopwords')\n",
        "from nltk.corpus import stopwords\n",
        "from nltk.stem import PorterStemmer\n",
        "from nltk import NaiveBayesClassifier\n",
        "from sklearn.model_selection import train_test_split\n",
        "from nltk.stem import PorterStemmer\n",
        "import re\n",
        "# DataFrame\n",
        "import pandas as pd \n",
        "\n",
        "# plotting\n",
        "from wordcloud import WordCloud\n",
        "import matplotlib.pyplot as plt\n",
        "from sklearn.metrics import confusion_matrix\n",
        "\n",
        "# nltk\n",
        "import nltk\n",
        "from nltk.stem import WordNetLemmatizer\n",
        "from nltk.corpus import stopwords\n",
        "from nltk.tokenize import word_tokenize\n",
        "\n",
        "import seaborn as sb\n",
        "\n",
        "from sklearn.feature_extraction.text import CountVectorizer\n",
        "from sklearn.feature_extraction.text import TfidfVectorizer\n",
        "sw = stopwords.words('english')\n",
        "\n",
        "# rnn\n",
        "from keras.models import Sequential\n",
        "from keras.layers import Dense\n",
        "\n",
        "# saving file\n",
        "import pickle\n",
        "\n",
        "# word embedding\n",
        "import io\n",
        "import re\n",
        "import string\n",
        "import tqdm\n",
        "\n",
        "import numpy as np\n",
        "\n",
        "from keras.models import Sequential\n",
        "from keras.layers import Dense\n",
        "from keras.optimizers import Adam\n",
        "from keras import regularizers\n",
        "\n",
        "import matplotlib.pyplot as plt\n",
        "import numpy as np\n",
        "\n",
        "from sklearn.preprocessing import LabelEncoder"
      ]
    },
    {
      "cell_type": "markdown",
      "source": [
        "Define functions that will be used in the project"
      ],
      "metadata": {
        "id": "TTTkIFnXSZE5"
      }
    },
    {
      "cell_type": "code",
      "execution_count": null,
      "metadata": {
        "id": "2456PtggHWyd"
      },
      "outputs": [],
      "source": [
        "# define functions\n",
        "\n",
        "def save_model(model):\n",
        "  file = open('4483_model','wb')\n",
        "  pickle.dump(model, file)\n",
        "  file.close()\n",
        "\n",
        "def save_vectorizer(vectorizer):\n",
        "  file = open('4483_vectorizer','wb')\n",
        "  pickle.dump(vectorizer, file)\n",
        "  file.close()\n",
        "\n",
        "def vector_to_binary(y_pred):\n",
        "  binary_prediction = []\n",
        "  for i in y_pred:\n",
        "    if i[0] >= 0.5:\n",
        "      binary_prediction.append(1)\n",
        "    else:\n",
        "      binary_prediction.append(0)\n",
        "  return binary_prediction\n",
        "\n",
        "def cleaning_data(data):\n",
        "  aux_list = []\n",
        "  flag = False\n",
        "  for phase_word in data:\n",
        "      word_list = []\n",
        "      for word in phase_word.split():\n",
        "          word = word.lower()\n",
        "          if flag and not word in sw:\n",
        "              flag = False\n",
        "              word_list.append('not_'+word)\n",
        "              continue\n",
        "          if re.search('(n\\'t)$|(not)|(no)|(never)', word):\n",
        "              flag = True\n",
        "              continue\n",
        "          if not word in sw:\n",
        "              word = re.sub('[\\W_0-9]', ' ', word)\n",
        "              word_list.append(word)\n",
        "      aux_list.append(' '.join(word_list))\n",
        "  return aux_list"
      ]
    },
    {
      "cell_type": "markdown",
      "source": [
        "Read train.json as 'ds' and test.json as 'ds_t'"
      ],
      "metadata": {
        "id": "CTk_IZq6SgnV"
      }
    },
    {
      "cell_type": "code",
      "execution_count": null,
      "metadata": {
        "colab": {
          "base_uri": "https://localhost:8080/",
          "height": 206
        },
        "id": "h1T_qpvcmAjm",
        "outputId": "b60879a2-6550-4457-b2b6-28d7ccea0b20"
      },
      "outputs": [
        {
          "output_type": "execute_result",
          "data": {
            "text/plain": [
              "                                             reviews  sentiments\n",
              "0  I bought this belt for my daughter in-law for ...           1\n",
              "1  The size was perfect and so was the color.  It...           1\n",
              "2  Fits and feels good, esp. for doing a swim rac...           1\n",
              "3  These socks are absolutely the best. I take pi...           1\n",
              "4  Thank you so much for the speedy delivery they...           1"
            ],
            "text/html": [
              "\n",
              "  <div id=\"df-4b1711a9-d3ea-459b-a201-cb1ec8776e96\">\n",
              "    <div class=\"colab-df-container\">\n",
              "      <div>\n",
              "<style scoped>\n",
              "    .dataframe tbody tr th:only-of-type {\n",
              "        vertical-align: middle;\n",
              "    }\n",
              "\n",
              "    .dataframe tbody tr th {\n",
              "        vertical-align: top;\n",
              "    }\n",
              "\n",
              "    .dataframe thead th {\n",
              "        text-align: right;\n",
              "    }\n",
              "</style>\n",
              "<table border=\"1\" class=\"dataframe\">\n",
              "  <thead>\n",
              "    <tr style=\"text-align: right;\">\n",
              "      <th></th>\n",
              "      <th>reviews</th>\n",
              "      <th>sentiments</th>\n",
              "    </tr>\n",
              "  </thead>\n",
              "  <tbody>\n",
              "    <tr>\n",
              "      <th>0</th>\n",
              "      <td>I bought this belt for my daughter in-law for ...</td>\n",
              "      <td>1</td>\n",
              "    </tr>\n",
              "    <tr>\n",
              "      <th>1</th>\n",
              "      <td>The size was perfect and so was the color.  It...</td>\n",
              "      <td>1</td>\n",
              "    </tr>\n",
              "    <tr>\n",
              "      <th>2</th>\n",
              "      <td>Fits and feels good, esp. for doing a swim rac...</td>\n",
              "      <td>1</td>\n",
              "    </tr>\n",
              "    <tr>\n",
              "      <th>3</th>\n",
              "      <td>These socks are absolutely the best. I take pi...</td>\n",
              "      <td>1</td>\n",
              "    </tr>\n",
              "    <tr>\n",
              "      <th>4</th>\n",
              "      <td>Thank you so much for the speedy delivery they...</td>\n",
              "      <td>1</td>\n",
              "    </tr>\n",
              "  </tbody>\n",
              "</table>\n",
              "</div>\n",
              "      <button class=\"colab-df-convert\" onclick=\"convertToInteractive('df-4b1711a9-d3ea-459b-a201-cb1ec8776e96')\"\n",
              "              title=\"Convert this dataframe to an interactive table.\"\n",
              "              style=\"display:none;\">\n",
              "        \n",
              "  <svg xmlns=\"http://www.w3.org/2000/svg\" height=\"24px\"viewBox=\"0 0 24 24\"\n",
              "       width=\"24px\">\n",
              "    <path d=\"M0 0h24v24H0V0z\" fill=\"none\"/>\n",
              "    <path d=\"M18.56 5.44l.94 2.06.94-2.06 2.06-.94-2.06-.94-.94-2.06-.94 2.06-2.06.94zm-11 1L8.5 8.5l.94-2.06 2.06-.94-2.06-.94L8.5 2.5l-.94 2.06-2.06.94zm10 10l.94 2.06.94-2.06 2.06-.94-2.06-.94-.94-2.06-.94 2.06-2.06.94z\"/><path d=\"M17.41 7.96l-1.37-1.37c-.4-.4-.92-.59-1.43-.59-.52 0-1.04.2-1.43.59L10.3 9.45l-7.72 7.72c-.78.78-.78 2.05 0 2.83L4 21.41c.39.39.9.59 1.41.59.51 0 1.02-.2 1.41-.59l7.78-7.78 2.81-2.81c.8-.78.8-2.07 0-2.86zM5.41 20L4 18.59l7.72-7.72 1.47 1.35L5.41 20z\"/>\n",
              "  </svg>\n",
              "      </button>\n",
              "      \n",
              "  <style>\n",
              "    .colab-df-container {\n",
              "      display:flex;\n",
              "      flex-wrap:wrap;\n",
              "      gap: 12px;\n",
              "    }\n",
              "\n",
              "    .colab-df-convert {\n",
              "      background-color: #E8F0FE;\n",
              "      border: none;\n",
              "      border-radius: 50%;\n",
              "      cursor: pointer;\n",
              "      display: none;\n",
              "      fill: #1967D2;\n",
              "      height: 32px;\n",
              "      padding: 0 0 0 0;\n",
              "      width: 32px;\n",
              "    }\n",
              "\n",
              "    .colab-df-convert:hover {\n",
              "      background-color: #E2EBFA;\n",
              "      box-shadow: 0px 1px 2px rgba(60, 64, 67, 0.3), 0px 1px 3px 1px rgba(60, 64, 67, 0.15);\n",
              "      fill: #174EA6;\n",
              "    }\n",
              "\n",
              "    [theme=dark] .colab-df-convert {\n",
              "      background-color: #3B4455;\n",
              "      fill: #D2E3FC;\n",
              "    }\n",
              "\n",
              "    [theme=dark] .colab-df-convert:hover {\n",
              "      background-color: #434B5C;\n",
              "      box-shadow: 0px 1px 3px 1px rgba(0, 0, 0, 0.15);\n",
              "      filter: drop-shadow(0px 1px 2px rgba(0, 0, 0, 0.3));\n",
              "      fill: #FFFFFF;\n",
              "    }\n",
              "  </style>\n",
              "\n",
              "      <script>\n",
              "        const buttonEl =\n",
              "          document.querySelector('#df-4b1711a9-d3ea-459b-a201-cb1ec8776e96 button.colab-df-convert');\n",
              "        buttonEl.style.display =\n",
              "          google.colab.kernel.accessAllowed ? 'block' : 'none';\n",
              "\n",
              "        async function convertToInteractive(key) {\n",
              "          const element = document.querySelector('#df-4b1711a9-d3ea-459b-a201-cb1ec8776e96');\n",
              "          const dataTable =\n",
              "            await google.colab.kernel.invokeFunction('convertToInteractive',\n",
              "                                                     [key], {});\n",
              "          if (!dataTable) return;\n",
              "\n",
              "          const docLinkHtml = 'Like what you see? Visit the ' +\n",
              "            '<a target=\"_blank\" href=https://colab.research.google.com/notebooks/data_table.ipynb>data table notebook</a>'\n",
              "            + ' to learn more about interactive tables.';\n",
              "          element.innerHTML = '';\n",
              "          dataTable['output_type'] = 'display_data';\n",
              "          await google.colab.output.renderOutput(dataTable, element);\n",
              "          const docLink = document.createElement('div');\n",
              "          docLink.innerHTML = docLinkHtml;\n",
              "          element.appendChild(docLink);\n",
              "        }\n",
              "      </script>\n",
              "    </div>\n",
              "  </div>\n",
              "  "
            ]
          },
          "metadata": {},
          "execution_count": 3
        }
      ],
      "source": [
        "# reading json file with the data for analyse\n",
        "ds = pd.read_json('train.json')\n",
        "# checking to see how the data are formatted\n",
        "ds.head()"
      ]
    },
    {
      "cell_type": "code",
      "execution_count": null,
      "metadata": {
        "colab": {
          "base_uri": "https://localhost:8080/",
          "height": 206
        },
        "id": "ngn4ND3ImAjn",
        "outputId": "1113e964-85bf-46fe-f9ca-24170165d9cb"
      },
      "outputs": [
        {
          "output_type": "execute_result",
          "data": {
            "text/plain": [
              "                                             reviews\n",
              "0  I bought 2 sleepers.  sleeper had holes in the...\n",
              "1  I dare say these are just about the sexiest th...\n",
              "2  everything about the transaction (price, deliv...\n",
              "3  Not bad for just a shirt.  Very durable, and m...\n",
              "4  These are truly wrinkle free and longer than t..."
            ],
            "text/html": [
              "\n",
              "  <div id=\"df-9dd6ed62-6370-47a8-b6cc-81ef5bc1dd3f\">\n",
              "    <div class=\"colab-df-container\">\n",
              "      <div>\n",
              "<style scoped>\n",
              "    .dataframe tbody tr th:only-of-type {\n",
              "        vertical-align: middle;\n",
              "    }\n",
              "\n",
              "    .dataframe tbody tr th {\n",
              "        vertical-align: top;\n",
              "    }\n",
              "\n",
              "    .dataframe thead th {\n",
              "        text-align: right;\n",
              "    }\n",
              "</style>\n",
              "<table border=\"1\" class=\"dataframe\">\n",
              "  <thead>\n",
              "    <tr style=\"text-align: right;\">\n",
              "      <th></th>\n",
              "      <th>reviews</th>\n",
              "    </tr>\n",
              "  </thead>\n",
              "  <tbody>\n",
              "    <tr>\n",
              "      <th>0</th>\n",
              "      <td>I bought 2 sleepers.  sleeper had holes in the...</td>\n",
              "    </tr>\n",
              "    <tr>\n",
              "      <th>1</th>\n",
              "      <td>I dare say these are just about the sexiest th...</td>\n",
              "    </tr>\n",
              "    <tr>\n",
              "      <th>2</th>\n",
              "      <td>everything about the transaction (price, deliv...</td>\n",
              "    </tr>\n",
              "    <tr>\n",
              "      <th>3</th>\n",
              "      <td>Not bad for just a shirt.  Very durable, and m...</td>\n",
              "    </tr>\n",
              "    <tr>\n",
              "      <th>4</th>\n",
              "      <td>These are truly wrinkle free and longer than t...</td>\n",
              "    </tr>\n",
              "  </tbody>\n",
              "</table>\n",
              "</div>\n",
              "      <button class=\"colab-df-convert\" onclick=\"convertToInteractive('df-9dd6ed62-6370-47a8-b6cc-81ef5bc1dd3f')\"\n",
              "              title=\"Convert this dataframe to an interactive table.\"\n",
              "              style=\"display:none;\">\n",
              "        \n",
              "  <svg xmlns=\"http://www.w3.org/2000/svg\" height=\"24px\"viewBox=\"0 0 24 24\"\n",
              "       width=\"24px\">\n",
              "    <path d=\"M0 0h24v24H0V0z\" fill=\"none\"/>\n",
              "    <path d=\"M18.56 5.44l.94 2.06.94-2.06 2.06-.94-2.06-.94-.94-2.06-.94 2.06-2.06.94zm-11 1L8.5 8.5l.94-2.06 2.06-.94-2.06-.94L8.5 2.5l-.94 2.06-2.06.94zm10 10l.94 2.06.94-2.06 2.06-.94-2.06-.94-.94-2.06-.94 2.06-2.06.94z\"/><path d=\"M17.41 7.96l-1.37-1.37c-.4-.4-.92-.59-1.43-.59-.52 0-1.04.2-1.43.59L10.3 9.45l-7.72 7.72c-.78.78-.78 2.05 0 2.83L4 21.41c.39.39.9.59 1.41.59.51 0 1.02-.2 1.41-.59l7.78-7.78 2.81-2.81c.8-.78.8-2.07 0-2.86zM5.41 20L4 18.59l7.72-7.72 1.47 1.35L5.41 20z\"/>\n",
              "  </svg>\n",
              "      </button>\n",
              "      \n",
              "  <style>\n",
              "    .colab-df-container {\n",
              "      display:flex;\n",
              "      flex-wrap:wrap;\n",
              "      gap: 12px;\n",
              "    }\n",
              "\n",
              "    .colab-df-convert {\n",
              "      background-color: #E8F0FE;\n",
              "      border: none;\n",
              "      border-radius: 50%;\n",
              "      cursor: pointer;\n",
              "      display: none;\n",
              "      fill: #1967D2;\n",
              "      height: 32px;\n",
              "      padding: 0 0 0 0;\n",
              "      width: 32px;\n",
              "    }\n",
              "\n",
              "    .colab-df-convert:hover {\n",
              "      background-color: #E2EBFA;\n",
              "      box-shadow: 0px 1px 2px rgba(60, 64, 67, 0.3), 0px 1px 3px 1px rgba(60, 64, 67, 0.15);\n",
              "      fill: #174EA6;\n",
              "    }\n",
              "\n",
              "    [theme=dark] .colab-df-convert {\n",
              "      background-color: #3B4455;\n",
              "      fill: #D2E3FC;\n",
              "    }\n",
              "\n",
              "    [theme=dark] .colab-df-convert:hover {\n",
              "      background-color: #434B5C;\n",
              "      box-shadow: 0px 1px 3px 1px rgba(0, 0, 0, 0.15);\n",
              "      filter: drop-shadow(0px 1px 2px rgba(0, 0, 0, 0.3));\n",
              "      fill: #FFFFFF;\n",
              "    }\n",
              "  </style>\n",
              "\n",
              "      <script>\n",
              "        const buttonEl =\n",
              "          document.querySelector('#df-9dd6ed62-6370-47a8-b6cc-81ef5bc1dd3f button.colab-df-convert');\n",
              "        buttonEl.style.display =\n",
              "          google.colab.kernel.accessAllowed ? 'block' : 'none';\n",
              "\n",
              "        async function convertToInteractive(key) {\n",
              "          const element = document.querySelector('#df-9dd6ed62-6370-47a8-b6cc-81ef5bc1dd3f');\n",
              "          const dataTable =\n",
              "            await google.colab.kernel.invokeFunction('convertToInteractive',\n",
              "                                                     [key], {});\n",
              "          if (!dataTable) return;\n",
              "\n",
              "          const docLinkHtml = 'Like what you see? Visit the ' +\n",
              "            '<a target=\"_blank\" href=https://colab.research.google.com/notebooks/data_table.ipynb>data table notebook</a>'\n",
              "            + ' to learn more about interactive tables.';\n",
              "          element.innerHTML = '';\n",
              "          dataTable['output_type'] = 'display_data';\n",
              "          await google.colab.output.renderOutput(dataTable, element);\n",
              "          const docLink = document.createElement('div');\n",
              "          docLink.innerHTML = docLinkHtml;\n",
              "          element.appendChild(docLink);\n",
              "        }\n",
              "      </script>\n",
              "    </div>\n",
              "  </div>\n",
              "  "
            ]
          },
          "metadata": {},
          "execution_count": 4
        }
      ],
      "source": [
        "# reading csv file with the data for analyse\n",
        "ds_t = pd.read_json('test.json')\n",
        "# checking to see how the data are formatted\n",
        "ds_t.head()"
      ]
    },
    {
      "cell_type": "markdown",
      "metadata": {
        "id": "UnAxZ3UgmAjo"
      },
      "source": [
        "Remove NaN and compare before-after dataset size"
      ]
    },
    {
      "cell_type": "code",
      "execution_count": null,
      "metadata": {
        "colab": {
          "base_uri": "https://localhost:8080/"
        },
        "id": "vDHyhlSmmAjs",
        "outputId": "80a8947e-ce4e-460d-fe85-ed5e5d5e0342"
      },
      "outputs": [
        {
          "output_type": "stream",
          "name": "stdout",
          "text": [
            "Size before removing Nan: 7401\n",
            "Size before removing Nan: 7401\n"
          ]
        }
      ],
      "source": [
        "# Number of elements before removing the NaN values\n",
        "print('Size before removing Nan: %s'% len(ds))\n",
        "\n",
        "# Number of elements after removing the NaN values\n",
        "ds.dropna(axis=0, inplace=True)\n",
        "print('Size before removing Nan: %s'% len(ds))"
      ]
    },
    {
      "cell_type": "code",
      "execution_count": null,
      "metadata": {
        "colab": {
          "base_uri": "https://localhost:8080/"
        },
        "id": "19FjqkspAjl3",
        "outputId": "54d97f3a-19f2-434a-8d45-beb352aabb26"
      },
      "outputs": [
        {
          "output_type": "stream",
          "name": "stdout",
          "text": [
            "Size before removing Nan: 1851\n",
            "Size before removing Nan: 1851\n"
          ]
        }
      ],
      "source": [
        "# Number of elements before removing the NaN values\n",
        "print('Size before removing Nan: %s'% len(ds_t))\n",
        "\n",
        "# Number of elements after removing the NaN values\n",
        "ds.dropna(axis=0, inplace=True)\n",
        "print('Size before removing Nan: %s'% len(ds_t))"
      ]
    },
    {
      "cell_type": "markdown",
      "metadata": {
        "id": "koS9yDJ7mAjw"
      },
      "source": [
        "We start by splitting 'ds' into training and test set with ratio of 8:2. After that, we proceed to data cleaning part."
      ]
    },
    {
      "cell_type": "markdown",
      "metadata": {
        "id": "M9VzVQRfmAjt"
      },
      "source": [
        "One of the functions defined in cell 2 is cleaning_data(). This function was used to clean the data. The stopwords were removed from the data since it also does not add too much to the analysis. To detect the words that have negative meaning was used a regex. This regex find the words ends in \"n't\" or is the word \"not\" or \"no\" or \"never\". More words can be add later and it may increase the result. When this words are found, the next word will have a \"not_\" before the word. <br>\n",
        "I.E: <lo> <li><b>Input:</b> 'This app is not good' <br> </li>\n",
        "     <li><b>Output:</b> ['app', 'not_good'] </li> </lo> <br>"
      ]
    },
    {
      "cell_type": "code",
      "execution_count": null,
      "metadata": {
        "id": "SU3L46DxmAjx"
      },
      "outputs": [],
      "source": [
        "# from train.json, to train and validate model\n",
        "X = ds['reviews']\n",
        "y = ds['sentiments']\n",
        "\n",
        "# from test.json, will be used later on\n",
        "X_t = ds_t['reviews']\n",
        "\n",
        "# split data into training and test\n",
        "X_train_pp, X_test_pp, y_train_p, y_test_p = train_test_split(X, y, test_size=0.2)\n",
        "\n",
        "X_train_p = cleaning_data(X_train_pp)\n",
        "X_test_p = cleaning_data(X_test_pp)"
      ]
    },
    {
      "cell_type": "markdown",
      "metadata": {
        "id": "dmSNVnqB4LfK"
      },
      "source": [
        "The cleaned training and test data are vectorized with both CountVectorizer() and TfidfVectorizer() separately. LabelEncoder() is also used to ensure proper labeling format of the data."
      ]
    },
    {
      "cell_type": "code",
      "execution_count": null,
      "metadata": {
        "id": "sw3UlV5MqZU0"
      },
      "outputs": [],
      "source": [
        "# # vectorize the data with CountVectorizer()\n",
        "vectorizer = CountVectorizer()\n",
        "\n",
        "vectorizer.fit(X)\n",
        "X_train_c = vectorizer.transform(X_train_p).todense()\n",
        "X_test_c = vectorizer.transform(X_test_p).todense()\n",
        "\n",
        "le = LabelEncoder()\n",
        "le.fit(y)\n",
        "y_train_c = le.transform(y_train_p)\n",
        "y_test_c = le.transform(y_test_p)\n",
        "\n",
        "# save the vectorizer\n",
        "# save_vectorizer(vectorizer)"
      ]
    },
    {
      "cell_type": "code",
      "execution_count": null,
      "metadata": {
        "id": "m03Rmy5LEg9J"
      },
      "outputs": [],
      "source": [
        "# # vectorize the data with TF-IDF Vectorizer()\n",
        "\n",
        "vectorizer2 = TfidfVectorizer()\n",
        "vectorizer2.fit(X)\n",
        "X_train = vectorizer2.transform(X_train_p).todense()\n",
        "X_test = vectorizer2.transform(X_test_p).todense()\n",
        "\n",
        "le = LabelEncoder()\n",
        "le.fit(y)\n",
        "y_train = le.transform(y_train_p)\n",
        "y_test = le.transform(y_test_p)\n",
        "\n",
        "# save the vectorizer\n",
        "save_vectorizer(vectorizer2)"
      ]
    },
    {
      "cell_type": "markdown",
      "source": [
        "Use CountVectorizer() vectorized data to train and evaluate a model"
      ],
      "metadata": {
        "id": "OAGuEsN8UFN4"
      }
    },
    {
      "cell_type": "code",
      "source": [
        "# CountVect\n",
        "model = Sequential()\n",
        "optimizer1 = Adam(learning_rate=0.0003)\n",
        "model.add(Dense(units=100, activation='relu', input_dim=len(vectorizer.get_feature_names_out()),kernel_regularizer=regularizers.L1L2(l1=1e-5, l2=1e-4)))\n",
        "model.add(Dense(units=1, activation='sigmoid'))\n",
        "model.compile(loss='binary_crossentropy', optimizer=optimizer1, metrics=['accuracy'])\n",
        "history_c = model.fit(X_train_c, y_train_c, epochs=30, verbose=1, batch_size = 32, validation_split=0.1)\n",
        "\n",
        "print(\"Evaluate test data:\")\n",
        "scores_c = model.evaluate(X_test_c, y_test_c, verbose=1)\n",
        "print(\"Accuracy:\", scores_c[1]*100, \"%\")\n"
      ],
      "metadata": {
        "colab": {
          "base_uri": "https://localhost:8080/"
        },
        "id": "UApfnVyQNTIn",
        "outputId": "8bb72cf3-394f-4749-dedb-8969de09659d"
      },
      "execution_count": null,
      "outputs": [
        {
          "output_type": "stream",
          "name": "stdout",
          "text": [
            "Epoch 1/30\n",
            "167/167 [==============================] - 7s 35ms/step - loss: 0.4989 - accuracy: 0.8504 - val_loss: 0.3718 - val_accuracy: 0.8682\n",
            "Epoch 2/30\n",
            "167/167 [==============================] - 4s 26ms/step - loss: 0.2974 - accuracy: 0.8981 - val_loss: 0.2716 - val_accuracy: 0.9003\n",
            "Epoch 3/30\n",
            "167/167 [==============================] - 4s 27ms/step - loss: 0.2093 - accuracy: 0.9439 - val_loss: 0.2417 - val_accuracy: 0.9223\n",
            "Epoch 4/30\n",
            "167/167 [==============================] - 4s 27ms/step - loss: 0.1680 - accuracy: 0.9606 - val_loss: 0.2298 - val_accuracy: 0.9206\n",
            "Epoch 5/30\n",
            "167/167 [==============================] - 4s 27ms/step - loss: 0.1431 - accuracy: 0.9715 - val_loss: 0.2246 - val_accuracy: 0.9274\n",
            "Epoch 6/30\n",
            "167/167 [==============================] - 4s 26ms/step - loss: 0.1268 - accuracy: 0.9779 - val_loss: 0.2266 - val_accuracy: 0.9324\n",
            "Epoch 7/30\n",
            "167/167 [==============================] - 6s 37ms/step - loss: 0.1151 - accuracy: 0.9827 - val_loss: 0.2258 - val_accuracy: 0.9307\n",
            "Epoch 8/30\n",
            "167/167 [==============================] - 5s 28ms/step - loss: 0.1063 - accuracy: 0.9880 - val_loss: 0.2337 - val_accuracy: 0.9291\n",
            "Epoch 9/30\n",
            "167/167 [==============================] - 4s 26ms/step - loss: 0.0981 - accuracy: 0.9912 - val_loss: 0.2324 - val_accuracy: 0.9307\n",
            "Epoch 10/30\n",
            "167/167 [==============================] - 4s 27ms/step - loss: 0.0919 - accuracy: 0.9932 - val_loss: 0.2351 - val_accuracy: 0.9324\n",
            "Epoch 11/30\n",
            "167/167 [==============================] - 5s 27ms/step - loss: 0.0869 - accuracy: 0.9942 - val_loss: 0.2405 - val_accuracy: 0.9257\n",
            "Epoch 12/30\n",
            "167/167 [==============================] - 5s 27ms/step - loss: 0.0828 - accuracy: 0.9955 - val_loss: 0.2394 - val_accuracy: 0.9324\n",
            "Epoch 13/30\n",
            "167/167 [==============================] - 5s 27ms/step - loss: 0.0793 - accuracy: 0.9966 - val_loss: 0.2405 - val_accuracy: 0.9307\n",
            "Epoch 14/30\n",
            "167/167 [==============================] - 4s 27ms/step - loss: 0.0761 - accuracy: 0.9974 - val_loss: 0.2430 - val_accuracy: 0.9307\n",
            "Epoch 15/30\n",
            "167/167 [==============================] - 4s 27ms/step - loss: 0.0733 - accuracy: 0.9979 - val_loss: 0.2491 - val_accuracy: 0.9274\n",
            "Epoch 16/30\n",
            "167/167 [==============================] - 5s 27ms/step - loss: 0.0709 - accuracy: 0.9979 - val_loss: 0.2489 - val_accuracy: 0.9307\n",
            "Epoch 17/30\n",
            "167/167 [==============================] - 5s 27ms/step - loss: 0.0681 - accuracy: 0.9979 - val_loss: 0.2506 - val_accuracy: 0.9307\n",
            "Epoch 18/30\n",
            "167/167 [==============================] - 4s 27ms/step - loss: 0.0675 - accuracy: 0.9983 - val_loss: 0.2601 - val_accuracy: 0.9307\n",
            "Epoch 19/30\n",
            "167/167 [==============================] - 4s 27ms/step - loss: 0.0649 - accuracy: 0.9983 - val_loss: 0.2531 - val_accuracy: 0.9307\n",
            "Epoch 20/30\n",
            "167/167 [==============================] - 5s 27ms/step - loss: 0.0629 - accuracy: 0.9989 - val_loss: 0.2622 - val_accuracy: 0.9240\n",
            "Epoch 21/30\n",
            "167/167 [==============================] - 5s 27ms/step - loss: 0.0610 - accuracy: 0.9992 - val_loss: 0.2604 - val_accuracy: 0.9324\n",
            "Epoch 22/30\n",
            "167/167 [==============================] - 5s 27ms/step - loss: 0.0598 - accuracy: 0.9994 - val_loss: 0.2677 - val_accuracy: 0.9291\n",
            "Epoch 23/30\n",
            "167/167 [==============================] - 5s 27ms/step - loss: 0.0585 - accuracy: 0.9994 - val_loss: 0.2656 - val_accuracy: 0.9307\n",
            "Epoch 24/30\n",
            "167/167 [==============================] - 4s 27ms/step - loss: 0.0571 - accuracy: 0.9992 - val_loss: 0.2773 - val_accuracy: 0.9341\n",
            "Epoch 25/30\n",
            "167/167 [==============================] - 5s 27ms/step - loss: 0.0576 - accuracy: 0.9994 - val_loss: 0.2823 - val_accuracy: 0.9257\n",
            "Epoch 26/30\n",
            "167/167 [==============================] - 4s 27ms/step - loss: 0.0569 - accuracy: 0.9996 - val_loss: 0.2768 - val_accuracy: 0.9240\n",
            "Epoch 27/30\n",
            "167/167 [==============================] - 5s 27ms/step - loss: 0.0541 - accuracy: 0.9996 - val_loss: 0.2762 - val_accuracy: 0.9274\n",
            "Epoch 28/30\n",
            "167/167 [==============================] - 4s 27ms/step - loss: 0.0529 - accuracy: 0.9998 - val_loss: 0.2855 - val_accuracy: 0.9240\n",
            "Epoch 29/30\n",
            "167/167 [==============================] - 5s 27ms/step - loss: 0.0513 - accuracy: 1.0000 - val_loss: 0.2838 - val_accuracy: 0.9307\n",
            "Epoch 30/30\n",
            "167/167 [==============================] - 5s 27ms/step - loss: 0.0524 - accuracy: 0.9991 - val_loss: 0.3063 - val_accuracy: 0.9206\n",
            "Evaluate test data:\n",
            "47/47 [==============================] - 1s 10ms/step - loss: 0.4435 - accuracy: 0.8980\n",
            "Accuracy: 89.8041844367981 %\n"
          ]
        }
      ]
    },
    {
      "cell_type": "markdown",
      "metadata": {
        "id": "SslCETEvmAjz"
      },
      "source": [
        "Visualize the resulting models' loss and accuracy curve"
      ]
    },
    {
      "cell_type": "code",
      "source": [
        "epoch = np.arange(1, len(history_c.history['loss'])+1)\n",
        "plt.plot(epoch, history_c.history['loss'], label='Training Loss')\n",
        "plt.legend(loc='upper right')\n",
        "plt.plot(epoch, history_c.history['val_loss'], label='Validation Loss')\n",
        "plt.legend(loc='upper right')\n",
        "plt.xlabel(\"epoch\")\n",
        "plt.ylabel(\"loss\")\n",
        "\n",
        "plt.show()\n",
        "\n",
        "plt.plot(epoch, history_c.history['accuracy'], label='Training Accuracy')\n",
        "plt.legend(loc='upper left')\n",
        "plt.plot(epoch, history_c.history['val_accuracy'], label='Validation Accuracy')\n",
        "plt.legend(loc='upper left')\n",
        "plt.xlabel(\"epoch\")\n",
        "plt.ylabel(\"accuracy\")\n",
        "\n",
        "plt.show()"
      ],
      "metadata": {
        "colab": {
          "base_uri": "https://localhost:8080/",
          "height": 573
        },
        "id": "xeCSTmVXwA3I",
        "outputId": "a54fa46c-74f4-4a0c-824f-ddb2cf8780f6"
      },
      "execution_count": null,
      "outputs": [
        {
          "output_type": "display_data",
          "data": {
            "text/plain": [
              "<Figure size 432x288 with 1 Axes>"
            ],
            "image/png": "[encoded data removed]"
          },
          "metadata": {}
        },
        {
          "output_type": "display_data",
          "data": {
            "text/plain": [
              "<Figure size 432x288 with 1 Axes>"
            ],
            "image/png": "[encoded data removed]"
          },
          "metadata": {}
        }
      ]
    },
    {
      "cell_type": "markdown",
      "source": [
        "Use TfidfVectorizer() vectorized data to train and evaluate a model"
      ],
      "metadata": {
        "id": "DHC-8yZ2UdTY"
      }
    },
    {
      "cell_type": "code",
      "execution_count": null,
      "metadata": {
        "colab": {
          "base_uri": "https://localhost:8080/"
        },
        "id": "gjk88OlBmAjz",
        "outputId": "e79b12ed-be3b-4f18-a14f-0f03f9cb8d0d"
      },
      "outputs": [
        {
          "output_type": "stream",
          "name": "stdout",
          "text": [
            "Epoch 1/60\n",
            "158/158 [==============================] - 16s 98ms/step - loss: 1.2640 - accuracy: 0.8398 - val_loss: 1.1136 - val_accuracy: 0.8761\n",
            "Epoch 2/60\n",
            "158/158 [==============================] - 15s 96ms/step - loss: 0.9953 - accuracy: 0.8498 - val_loss: 0.8739 - val_accuracy: 0.8761\n",
            "Epoch 3/60\n",
            "158/158 [==============================] - 16s 103ms/step - loss: 0.7901 - accuracy: 0.8498 - val_loss: 0.6968 - val_accuracy: 0.8761\n",
            "Epoch 4/60\n",
            "158/158 [==============================] - 15s 96ms/step - loss: 0.6461 - accuracy: 0.8498 - val_loss: 0.5781 - val_accuracy: 0.8761\n",
            "Epoch 5/60\n",
            "158/158 [==============================] - 15s 96ms/step - loss: 0.5564 - accuracy: 0.8498 - val_loss: 0.5090 - val_accuracy: 0.8761\n",
            "Epoch 6/60\n",
            "158/158 [==============================] - 15s 96ms/step - loss: 0.5053 - accuracy: 0.8498 - val_loss: 0.4661 - val_accuracy: 0.8761\n",
            "Epoch 7/60\n",
            "158/158 [==============================] - 15s 96ms/step - loss: 0.4716 - accuracy: 0.8498 - val_loss: 0.4366 - val_accuracy: 0.8761\n",
            "Epoch 8/60\n",
            "158/158 [==============================] - 15s 95ms/step - loss: 0.4480 - accuracy: 0.8498 - val_loss: 0.4153 - val_accuracy: 0.8761\n",
            "Epoch 9/60\n",
            "158/158 [==============================] - 15s 95ms/step - loss: 0.4303 - accuracy: 0.8498 - val_loss: 0.3995 - val_accuracy: 0.8761\n",
            "Epoch 10/60\n",
            "158/158 [==============================] - 15s 95ms/step - loss: 0.4160 - accuracy: 0.8498 - val_loss: 0.3869 - val_accuracy: 0.8761\n",
            "Epoch 11/60\n",
            "158/158 [==============================] - 15s 95ms/step - loss: 0.4038 - accuracy: 0.8498 - val_loss: 0.3765 - val_accuracy: 0.8761\n",
            "Epoch 12/60\n",
            "158/158 [==============================] - 15s 95ms/step - loss: 0.3930 - accuracy: 0.8504 - val_loss: 0.3674 - val_accuracy: 0.8761\n",
            "Epoch 13/60\n",
            "158/158 [==============================] - 15s 95ms/step - loss: 0.3833 - accuracy: 0.8508 - val_loss: 0.3598 - val_accuracy: 0.8761\n",
            "Epoch 14/60\n",
            "158/158 [==============================] - 15s 95ms/step - loss: 0.3743 - accuracy: 0.8514 - val_loss: 0.3525 - val_accuracy: 0.8761\n",
            "Epoch 15/60\n",
            "158/158 [==============================] - 15s 95ms/step - loss: 0.3659 - accuracy: 0.8517 - val_loss: 0.3460 - val_accuracy: 0.8795\n",
            "Epoch 16/60\n",
            "158/158 [==============================] - 15s 96ms/step - loss: 0.3580 - accuracy: 0.8519 - val_loss: 0.3399 - val_accuracy: 0.8795\n",
            "Epoch 17/60\n",
            "158/158 [==============================] - 15s 97ms/step - loss: 0.3504 - accuracy: 0.8529 - val_loss: 0.3345 - val_accuracy: 0.8795\n",
            "Epoch 18/60\n",
            "158/158 [==============================] - 15s 97ms/step - loss: 0.3431 - accuracy: 0.8555 - val_loss: 0.3291 - val_accuracy: 0.8806\n",
            "Epoch 19/60\n",
            "158/158 [==============================] - 16s 103ms/step - loss: 0.3361 - accuracy: 0.8579 - val_loss: 0.3244 - val_accuracy: 0.8829\n",
            "Epoch 20/60\n",
            "158/158 [==============================] - 15s 97ms/step - loss: 0.3295 - accuracy: 0.8613 - val_loss: 0.3200 - val_accuracy: 0.8840\n",
            "Epoch 21/60\n",
            "158/158 [==============================] - 15s 96ms/step - loss: 0.3232 - accuracy: 0.8647 - val_loss: 0.3155 - val_accuracy: 0.8874\n",
            "Epoch 22/60\n",
            "158/158 [==============================] - 15s 96ms/step - loss: 0.3171 - accuracy: 0.8702 - val_loss: 0.3114 - val_accuracy: 0.8896\n",
            "Epoch 23/60\n",
            "158/158 [==============================] - 15s 96ms/step - loss: 0.3113 - accuracy: 0.8756 - val_loss: 0.3072 - val_accuracy: 0.8908\n",
            "Epoch 24/60\n",
            "158/158 [==============================] - 15s 96ms/step - loss: 0.3058 - accuracy: 0.8790 - val_loss: 0.3034 - val_accuracy: 0.8919\n",
            "Epoch 25/60\n",
            "158/158 [==============================] - 15s 96ms/step - loss: 0.3006 - accuracy: 0.8829 - val_loss: 0.3000 - val_accuracy: 0.8930\n",
            "Epoch 26/60\n",
            "158/158 [==============================] - 15s 97ms/step - loss: 0.2956 - accuracy: 0.8863 - val_loss: 0.2969 - val_accuracy: 0.8975\n",
            "Epoch 27/60\n",
            "158/158 [==============================] - 15s 97ms/step - loss: 0.2908 - accuracy: 0.8901 - val_loss: 0.2939 - val_accuracy: 0.9009\n",
            "Epoch 28/60\n",
            "158/158 [==============================] - 15s 97ms/step - loss: 0.2864 - accuracy: 0.8947 - val_loss: 0.2906 - val_accuracy: 0.9009\n",
            "Epoch 29/60\n",
            "158/158 [==============================] - 15s 98ms/step - loss: 0.2821 - accuracy: 0.8973 - val_loss: 0.2879 - val_accuracy: 0.9032\n",
            "Epoch 30/60\n",
            "158/158 [==============================] - 15s 98ms/step - loss: 0.2781 - accuracy: 0.9000 - val_loss: 0.2856 - val_accuracy: 0.9077\n",
            "Epoch 31/60\n",
            "158/158 [==============================] - 15s 97ms/step - loss: 0.2742 - accuracy: 0.9048 - val_loss: 0.2832 - val_accuracy: 0.9077\n",
            "Epoch 32/60\n",
            "158/158 [==============================] - 15s 97ms/step - loss: 0.2706 - accuracy: 0.9080 - val_loss: 0.2810 - val_accuracy: 0.9077\n",
            "Epoch 33/60\n",
            "158/158 [==============================] - 15s 98ms/step - loss: 0.2671 - accuracy: 0.9098 - val_loss: 0.2789 - val_accuracy: 0.9099\n",
            "Epoch 34/60\n",
            "158/158 [==============================] - 15s 97ms/step - loss: 0.2638 - accuracy: 0.9140 - val_loss: 0.2770 - val_accuracy: 0.9099\n",
            "Epoch 35/60\n",
            "158/158 [==============================] - 15s 97ms/step - loss: 0.2607 - accuracy: 0.9169 - val_loss: 0.2752 - val_accuracy: 0.9099\n",
            "Epoch 36/60\n",
            "158/158 [==============================] - 16s 103ms/step - loss: 0.2576 - accuracy: 0.9207 - val_loss: 0.2737 - val_accuracy: 0.9133\n",
            "Epoch 37/60\n",
            "158/158 [==============================] - 15s 98ms/step - loss: 0.2548 - accuracy: 0.9231 - val_loss: 0.2721 - val_accuracy: 0.9155\n",
            "Epoch 38/60\n",
            "158/158 [==============================] - 15s 97ms/step - loss: 0.2520 - accuracy: 0.9249 - val_loss: 0.2708 - val_accuracy: 0.9200\n",
            "Epoch 39/60\n",
            "158/158 [==============================] - 15s 97ms/step - loss: 0.2494 - accuracy: 0.9277 - val_loss: 0.2693 - val_accuracy: 0.9212\n",
            "Epoch 40/60\n",
            "158/158 [==============================] - 15s 97ms/step - loss: 0.2470 - accuracy: 0.9289 - val_loss: 0.2679 - val_accuracy: 0.9200\n",
            "Epoch 41/60\n",
            "158/158 [==============================] - 15s 97ms/step - loss: 0.2445 - accuracy: 0.9312 - val_loss: 0.2666 - val_accuracy: 0.9200\n",
            "Epoch 42/60\n",
            "158/158 [==============================] - 15s 97ms/step - loss: 0.2423 - accuracy: 0.9324 - val_loss: 0.2656 - val_accuracy: 0.9200\n",
            "Epoch 43/60\n",
            "158/158 [==============================] - 15s 96ms/step - loss: 0.2400 - accuracy: 0.9338 - val_loss: 0.2647 - val_accuracy: 0.9223\n",
            "Epoch 44/60\n",
            "158/158 [==============================] - 15s 96ms/step - loss: 0.2379 - accuracy: 0.9354 - val_loss: 0.2634 - val_accuracy: 0.9223\n",
            "Epoch 45/60\n",
            "158/158 [==============================] - 15s 96ms/step - loss: 0.2358 - accuracy: 0.9366 - val_loss: 0.2626 - val_accuracy: 0.9268\n",
            "Epoch 46/60\n",
            "158/158 [==============================] - 15s 95ms/step - loss: 0.2339 - accuracy: 0.9384 - val_loss: 0.2620 - val_accuracy: 0.9268\n",
            "Epoch 47/60\n",
            "158/158 [==============================] - 15s 95ms/step - loss: 0.2319 - accuracy: 0.9402 - val_loss: 0.2609 - val_accuracy: 0.9268\n",
            "Epoch 48/60\n",
            "158/158 [==============================] - 15s 96ms/step - loss: 0.2301 - accuracy: 0.9416 - val_loss: 0.2602 - val_accuracy: 0.9257\n",
            "Epoch 49/60\n",
            "158/158 [==============================] - 15s 96ms/step - loss: 0.2283 - accuracy: 0.9426 - val_loss: 0.2593 - val_accuracy: 0.9245\n",
            "Epoch 50/60\n",
            "158/158 [==============================] - 15s 97ms/step - loss: 0.2266 - accuracy: 0.9440 - val_loss: 0.2587 - val_accuracy: 0.9268\n",
            "Epoch 51/60\n",
            "158/158 [==============================] - 15s 98ms/step - loss: 0.2249 - accuracy: 0.9446 - val_loss: 0.2580 - val_accuracy: 0.9279\n",
            "Epoch 52/60\n",
            "158/158 [==============================] - 15s 96ms/step - loss: 0.2232 - accuracy: 0.9465 - val_loss: 0.2574 - val_accuracy: 0.9257\n",
            "Epoch 53/60\n",
            "158/158 [==============================] - 16s 103ms/step - loss: 0.2217 - accuracy: 0.9469 - val_loss: 0.2569 - val_accuracy: 0.9268\n",
            "Epoch 54/60\n",
            "158/158 [==============================] - 15s 96ms/step - loss: 0.2201 - accuracy: 0.9489 - val_loss: 0.2565 - val_accuracy: 0.9257\n",
            "Epoch 55/60\n",
            "158/158 [==============================] - 15s 96ms/step - loss: 0.2186 - accuracy: 0.9505 - val_loss: 0.2558 - val_accuracy: 0.9268\n",
            "Epoch 56/60\n",
            "158/158 [==============================] - 15s 96ms/step - loss: 0.2172 - accuracy: 0.9487 - val_loss: 0.2556 - val_accuracy: 0.9257\n",
            "Epoch 57/60\n",
            "158/158 [==============================] - 15s 96ms/step - loss: 0.2157 - accuracy: 0.9509 - val_loss: 0.2558 - val_accuracy: 0.9302\n",
            "Epoch 58/60\n",
            "158/158 [==============================] - 15s 96ms/step - loss: 0.2144 - accuracy: 0.9523 - val_loss: 0.2550 - val_accuracy: 0.9302\n",
            "Epoch 59/60\n",
            "158/158 [==============================] - 15s 95ms/step - loss: 0.2129 - accuracy: 0.9511 - val_loss: 0.2548 - val_accuracy: 0.9302\n",
            "Epoch 60/60\n",
            "158/158 [==============================] - 15s 96ms/step - loss: 0.2117 - accuracy: 0.9533 - val_loss: 0.2545 - val_accuracy: 0.9302\n",
            "Evaluate test data:\n",
            "47/47 [==============================] - 1s 29ms/step - loss: 0.2798 - accuracy: 0.9102\n",
            "Accuracy: 91.01958274841309 %\n"
          ]
        }
      ],
      "source": [
        "# TFIDF\n",
        "model = Sequential()\n",
        "optimizer1 = Adam(learning_rate=0.00003)\n",
        "model.add(Dense(units=450, activation='relu', input_dim=len(vectorizer2.get_feature_names_out()), kernel_regularizer=regularizers.L1L2(l1=1e-5, l2=1e-4)))\n",
        "model.add(Dense(units=1, activation='sigmoid'))\n",
        "model.compile(loss='binary_crossentropy', optimizer=optimizer1, metrics=['accuracy'])\n",
        "history_tfidf = model.fit(X_train, y_train, epochs=60, verbose=1, batch_size = 32, validation_split = 0.15)\n",
        "\n",
        "print(\"Evaluate test data:\")\n",
        "scores_tfidf = model.evaluate(X_test, y_test, verbose=1)\n",
        "print(\"Accuracy:\", scores_tfidf[1]*100, \"%\")\n"
      ]
    },
    {
      "cell_type": "markdown",
      "source": [
        "Visualize the resulting models' loss and accuracy curve"
      ],
      "metadata": {
        "id": "0uOFIrDFUoAp"
      }
    },
    {
      "cell_type": "code",
      "source": [
        "\n",
        "epoch = np.arange(1, len(history_tfidf.history['loss'])+1)\n",
        "plt.plot(epoch, history_tfidf.history['loss'], label='Training Loss')\n",
        "plt.legend(loc='upper right')\n",
        "plt.plot(epoch, history_tfidf.history['val_loss'], label='Validation Loss')\n",
        "plt.legend(loc='upper right')\n",
        "plt.xlabel(\"epoch\")\n",
        "plt.ylabel(\"loss\")\n",
        "\n",
        "plt.show()\n",
        "\n",
        "plt.plot(epoch, history_tfidf.history['accuracy'], label='Training Accuracy')\n",
        "plt.legend(loc='upper left')\n",
        "plt.plot(epoch, history_tfidf.history['val_accuracy'], label='Validation Accuracy')\n",
        "plt.legend(loc='upper left')\n",
        "plt.xlabel(\"epoch\")\n",
        "plt.ylabel(\"accuracy\")\n",
        "\n",
        "plt.show()"
      ],
      "metadata": {
        "colab": {
          "base_uri": "https://localhost:8080/",
          "height": 573
        },
        "id": "YYxE8rBC95jp",
        "outputId": "e60e34d6-a324-4426-ab39-089eedeb578b"
      },
      "execution_count": null,
      "outputs": [
        {
          "output_type": "display_data",
          "data": {
            "text/plain": [
              "<Figure size 432x288 with 1 Axes>"
            ],
            "image/png": "[encoded data removed]"
          },
          "metadata": {}
        },
        {
          "output_type": "display_data",
          "data": {
            "text/plain": [
              "<Figure size 432x288 with 1 Axes>"
            ],
            "image/png": "[encoded data removed]"
          },
          "metadata": {}
        }
      ]
    },
    {
      "cell_type": "markdown",
      "source": [
        "Comparing the accuracy between the 2 trained RNNs, it is similar but the tfidvectorizer provide more stable learning curve that is less likely to overfit."
      ],
      "metadata": {
        "id": "0XD4nZIkVICb"
      }
    },
    {
      "cell_type": "code",
      "source": [
        "plt.ylabel('accuracy (%)')\n",
        "plt.title('tfidf vectorizer vs count vectorizer on test data')\n",
        "plt.bar(('tfidf vectorizer', 'count vectorizer'),(scores_tfidf[1]*100, scores_c[1]*100), color=['blue','orange'])"
      ],
      "metadata": {
        "colab": {
          "base_uri": "https://localhost:8080/",
          "height": 298
        },
        "id": "cPaX63vXCuvq",
        "outputId": "37ea63a9-8ddc-49a8-91f6-ee8097a2cb4b"
      },
      "execution_count": null,
      "outputs": [
        {
          "output_type": "execute_result",
          "data": {
            "text/plain": [
              "<BarContainer object of 2 artists>"
            ]
          },
          "metadata": {},
          "execution_count": 2
        },
        {
          "output_type": "display_data",
          "data": {
            "text/plain": [
              "<Figure size 432x288 with 1 Axes>"
            ],
            "image/png": "[encoded data removed]"
          },
          "metadata": {
            "needs_background": "light"
          }
        }
      ]
    },
    {
      "cell_type": "code",
      "execution_count": null,
      "metadata": {
        "id": "179WZp1D7xVw"
      },
      "outputs": [],
      "source": [
        "#Save the model\n",
        "save_model(model)"
      ]
    },
    {
      "cell_type": "markdown",
      "source": [
        "After the model is saved, we can reload it. This way, we would not need to retrain the model, instead we can directly use it for prediction. We choose the second model as the most suitable one.\n",
        "\n",
        "After loaded, we apply the model to predict test data.\n",
        "\n",
        "vector_to_binary() is one of the functions defined in Cell 2 that will convert the sigmoid layer output of probabilities into 0 and 1. We use 0.5 as the threshold (more than equal to 0.5 classified as 1)"
      ],
      "metadata": {
        "id": "37hypKTyVcJE"
      }
    },
    {
      "cell_type": "code",
      "execution_count": null,
      "metadata": {
        "colab": {
          "base_uri": "https://localhost:8080/"
        },
        "id": "fRjJCaWgCkVH",
        "outputId": "9fe146d6-af2c-484b-8e73-b5142bc0db83"
      },
      "outputs": [
        {
          "output_type": "stream",
          "name": "stdout",
          "text": [
            "47/47 [==============================] - 1s 15ms/step\n"
          ]
        }
      ],
      "source": [
        "# load the saved model\n",
        "model = pickle.load(open('4483_model', 'rb'))\n",
        "\n",
        "# use the model on test data (not test.json)\n",
        "\n",
        "y_pred = model.predict(X_test)\n",
        "\n",
        "y_pred = vector_to_binary(y_pred)"
      ]
    },
    {
      "cell_type": "markdown",
      "source": [
        "We plot the confusion matrix to compare the model prediction to the actual test data label."
      ],
      "metadata": {
        "id": "O8AjC-ExWOL2"
      }
    },
    {
      "cell_type": "code",
      "execution_count": null,
      "metadata": {
        "colab": {
          "base_uri": "https://localhost:8080/",
          "height": 290
        },
        "id": "Cz2Jf8WJFHnw",
        "outputId": "c83a38c0-c65d-49f3-e0d8-588a4213976d"
      },
      "outputs": [
        {
          "output_type": "execute_result",
          "data": {
            "text/plain": [
              "<matplotlib.axes._subplots.AxesSubplot at 0x7fce3c4a0090>"
            ]
          },
          "metadata": {},
          "execution_count": 27
        },
        {
          "output_type": "display_data",
          "data": {
            "text/plain": [
              "<Figure size 432x288 with 2 Axes>"
            ],
            "image/png": "[encoded data removed]"
          },
          "metadata": {}
        }
      ],
      "source": [
        "# compare predicted values with actual values of test data (not test.json)\n",
        "cf_matrix = confusion_matrix(y_test, y_pred)\n",
        "\n",
        "df_cm = pd.DataFrame(cf_matrix, range(2), range(2))\n",
        "sb.set(font_scale=1.4) # for label size\n",
        "sb.heatmap(df_cm, annot=True, annot_kws={\"size\": 12}, fmt='g') # font size"
      ]
    },
    {
      "cell_type": "markdown",
      "source": [
        "We save the test data comparison in csv file for future reference."
      ],
      "metadata": {
        "id": "fvZWUhXMWbPu"
      }
    },
    {
      "cell_type": "code",
      "execution_count": null,
      "metadata": {
        "colab": {
          "base_uri": "https://localhost:8080/",
          "height": 206
        },
        "id": "3Xl0mBkOIcuB",
        "outputId": "4753ea7d-885f-40d6-f159-488f23f74d03"
      },
      "outputs": [
        {
          "data": {
            "text/html": [
              "\n",
              "  <div id=\"df-f33d3b60-fa0a-4d23-a514-7464abe2ae85\">\n",
              "    <div class=\"colab-df-container\">\n",
              "      <div>\n",
              "<style scoped>\n",
              "    .dataframe tbody tr th:only-of-type {\n",
              "        vertical-align: middle;\n",
              "    }\n",
              "\n",
              "    .dataframe tbody tr th {\n",
              "        vertical-align: top;\n",
              "    }\n",
              "\n",
              "    .dataframe thead th {\n",
              "        text-align: right;\n",
              "    }\n",
              "</style>\n",
              "<table border=\"1\" class=\"dataframe\">\n",
              "  <thead>\n",
              "    <tr style=\"text-align: right;\">\n",
              "      <th></th>\n",
              "      <th>reviews</th>\n",
              "      <th>actual_sentiments</th>\n",
              "      <th>predicted_sentiments</th>\n",
              "    </tr>\n",
              "  </thead>\n",
              "  <tbody>\n",
              "    <tr>\n",
              "      <th>93</th>\n",
              "      <td>This is my second pair of these (one pair blac...</td>\n",
              "      <td>1</td>\n",
              "      <td>1</td>\n",
              "    </tr>\n",
              "    <tr>\n",
              "      <th>4285</th>\n",
              "      <td>My husband absolutely loved the t-shirt. Guy H...</td>\n",
              "      <td>1</td>\n",
              "      <td>1</td>\n",
              "    </tr>\n",
              "    <tr>\n",
              "      <th>3016</th>\n",
              "      <td>I usually wear a size 9, but went with an 8, a...</td>\n",
              "      <td>1</td>\n",
              "      <td>1</td>\n",
              "    </tr>\n",
              "    <tr>\n",
              "      <th>4638</th>\n",
              "      <td>I just received a pair of the MIA Hepburn blac...</td>\n",
              "      <td>1</td>\n",
              "      <td>1</td>\n",
              "    </tr>\n",
              "    <tr>\n",
              "      <th>4531</th>\n",
              "      <td>This set is made of thin scratchy cheap fabric...</td>\n",
              "      <td>0</td>\n",
              "      <td>0</td>\n",
              "    </tr>\n",
              "  </tbody>\n",
              "</table>\n",
              "</div>\n",
              "      <button class=\"colab-df-convert\" onclick=\"convertToInteractive('df-f33d3b60-fa0a-4d23-a514-7464abe2ae85')\"\n",
              "              title=\"Convert this dataframe to an interactive table.\"\n",
              "              style=\"display:none;\">\n",
              "        \n",
              "  <svg xmlns=\"http://www.w3.org/2000/svg\" height=\"24px\"viewBox=\"0 0 24 24\"\n",
              "       width=\"24px\">\n",
              "    <path d=\"M0 0h24v24H0V0z\" fill=\"none\"/>\n",
              "    <path d=\"M18.56 5.44l.94 2.06.94-2.06 2.06-.94-2.06-.94-.94-2.06-.94 2.06-2.06.94zm-11 1L8.5 8.5l.94-2.06 2.06-.94-2.06-.94L8.5 2.5l-.94 2.06-2.06.94zm10 10l.94 2.06.94-2.06 2.06-.94-2.06-.94-.94-2.06-.94 2.06-2.06.94z\"/><path d=\"M17.41 7.96l-1.37-1.37c-.4-.4-.92-.59-1.43-.59-.52 0-1.04.2-1.43.59L10.3 9.45l-7.72 7.72c-.78.78-.78 2.05 0 2.83L4 21.41c.39.39.9.59 1.41.59.51 0 1.02-.2 1.41-.59l7.78-7.78 2.81-2.81c.8-.78.8-2.07 0-2.86zM5.41 20L4 18.59l7.72-7.72 1.47 1.35L5.41 20z\"/>\n",
              "  </svg>\n",
              "      </button>\n",
              "      \n",
              "  <style>\n",
              "    .colab-df-container {\n",
              "      display:flex;\n",
              "      flex-wrap:wrap;\n",
              "      gap: 12px;\n",
              "    }\n",
              "\n",
              "    .colab-df-convert {\n",
              "      background-color: #E8F0FE;\n",
              "      border: none;\n",
              "      border-radius: 50%;\n",
              "      cursor: pointer;\n",
              "      display: none;\n",
              "      fill: #1967D2;\n",
              "      height: 32px;\n",
              "      padding: 0 0 0 0;\n",
              "      width: 32px;\n",
              "    }\n",
              "\n",
              "    .colab-df-convert:hover {\n",
              "      background-color: #E2EBFA;\n",
              "      box-shadow: 0px 1px 2px rgba(60, 64, 67, 0.3), 0px 1px 3px 1px rgba(60, 64, 67, 0.15);\n",
              "      fill: #174EA6;\n",
              "    }\n",
              "\n",
              "    [theme=dark] .colab-df-convert {\n",
              "      background-color: #3B4455;\n",
              "      fill: #D2E3FC;\n",
              "    }\n",
              "\n",
              "    [theme=dark] .colab-df-convert:hover {\n",
              "      background-color: #434B5C;\n",
              "      box-shadow: 0px 1px 3px 1px rgba(0, 0, 0, 0.15);\n",
              "      filter: drop-shadow(0px 1px 2px rgba(0, 0, 0, 0.3));\n",
              "      fill: #FFFFFF;\n",
              "    }\n",
              "  </style>\n",
              "\n",
              "      <script>\n",
              "        const buttonEl =\n",
              "          document.querySelector('#df-f33d3b60-fa0a-4d23-a514-7464abe2ae85 button.colab-df-convert');\n",
              "        buttonEl.style.display =\n",
              "          google.colab.kernel.accessAllowed ? 'block' : 'none';\n",
              "\n",
              "        async function convertToInteractive(key) {\n",
              "          const element = document.querySelector('#df-f33d3b60-fa0a-4d23-a514-7464abe2ae85');\n",
              "          const dataTable =\n",
              "            await google.colab.kernel.invokeFunction('convertToInteractive',\n",
              "                                                     [key], {});\n",
              "          if (!dataTable) return;\n",
              "\n",
              "          const docLinkHtml = 'Like what you see? Visit the ' +\n",
              "            '<a target=\"_blank\" href=https://colab.research.google.com/notebooks/data_table.ipynb>data table notebook</a>'\n",
              "            + ' to learn more about interactive tables.';\n",
              "          element.innerHTML = '';\n",
              "          dataTable['output_type'] = 'display_data';\n",
              "          await google.colab.output.renderOutput(dataTable, element);\n",
              "          const docLink = document.createElement('div');\n",
              "          docLink.innerHTML = docLinkHtml;\n",
              "          element.appendChild(docLink);\n",
              "        }\n",
              "      </script>\n",
              "    </div>\n",
              "  </div>\n",
              "  "
            ],
            "text/plain": [
              "                                                reviews  actual_sentiments  \\\n",
              "93    This is my second pair of these (one pair blac...                  1   \n",
              "4285  My husband absolutely loved the t-shirt. Guy H...                  1   \n",
              "3016  I usually wear a size 9, but went with an 8, a...                  1   \n",
              "4638  I just received a pair of the MIA Hepburn blac...                  1   \n",
              "4531  This set is made of thin scratchy cheap fabric...                  0   \n",
              "\n",
              "      predicted_sentiments  \n",
              "93                       1  \n",
              "4285                     1  \n",
              "3016                     1  \n",
              "4638                     1  \n",
              "4531                     0  "
            ]
          },
          "execution_count": 65,
          "metadata": {},
          "output_type": "execute_result"
        }
      ],
      "source": [
        "# save the test data (not test.json) into a csv along with its actual sentiments\n",
        "# and predicted sentiments\n",
        "\n",
        "df_inaccurate = pd.DataFrame()\n",
        "df_inaccurate['reviews']=X_test_pp\n",
        "df_inaccurate['actual_sentiments']=list(y_test)\n",
        "df_inaccurate['predicted_sentiments']=y_pred\n",
        "df_inaccurate.to_csv(\"inaccurate.csv\",encoding=\"utf-8\")\n",
        "\n",
        "df_inaccurate.head()"
      ]
    },
    {
      "cell_type": "markdown",
      "source": [
        "Lastly, we use the model to predict test.json data that is vectorized with TfidfVectorizer() as well. We save the result in 'submission.csv'"
      ],
      "metadata": {
        "id": "Vo3bD_v_Wj3k"
      }
    },
    {
      "cell_type": "code",
      "execution_count": null,
      "metadata": {
        "colab": {
          "base_uri": "https://localhost:8080/",
          "height": 223
        },
        "id": "AH3fo_fuI3H5",
        "outputId": "9525a8ba-549f-4a8c-96ee-8e0766a82f22"
      },
      "outputs": [
        {
          "output_type": "stream",
          "name": "stdout",
          "text": [
            "58/58 [==============================] - 1s 24ms/step\n"
          ]
        },
        {
          "output_type": "execute_result",
          "data": {
            "text/plain": [
              "                                             reviews  predicted_sentiments\n",
              "0  I bought 2 sleepers.  sleeper had holes in the...                     0\n",
              "1  I dare say these are just about the sexiest th...                     1\n",
              "2  everything about the transaction (price, deliv...                     1\n",
              "3  Not bad for just a shirt.  Very durable, and m...                     1\n",
              "4  These are truly wrinkle free and longer than t...                     1"
            ],
            "text/html": [
              "\n",
              "  <div id=\"df-208753ab-afa4-4ab6-9927-4f57249baf0d\">\n",
              "    <div class=\"colab-df-container\">\n",
              "      <div>\n",
              "<style scoped>\n",
              "    .dataframe tbody tr th:only-of-type {\n",
              "        vertical-align: middle;\n",
              "    }\n",
              "\n",
              "    .dataframe tbody tr th {\n",
              "        vertical-align: top;\n",
              "    }\n",
              "\n",
              "    .dataframe thead th {\n",
              "        text-align: right;\n",
              "    }\n",
              "</style>\n",
              "<table border=\"1\" class=\"dataframe\">\n",
              "  <thead>\n",
              "    <tr style=\"text-align: right;\">\n",
              "      <th></th>\n",
              "      <th>reviews</th>\n",
              "      <th>predicted_sentiments</th>\n",
              "    </tr>\n",
              "  </thead>\n",
              "  <tbody>\n",
              "    <tr>\n",
              "      <th>0</th>\n",
              "      <td>I bought 2 sleepers.  sleeper had holes in the...</td>\n",
              "      <td>0</td>\n",
              "    </tr>\n",
              "    <tr>\n",
              "      <th>1</th>\n",
              "      <td>I dare say these are just about the sexiest th...</td>\n",
              "      <td>1</td>\n",
              "    </tr>\n",
              "    <tr>\n",
              "      <th>2</th>\n",
              "      <td>everything about the transaction (price, deliv...</td>\n",
              "      <td>1</td>\n",
              "    </tr>\n",
              "    <tr>\n",
              "      <th>3</th>\n",
              "      <td>Not bad for just a shirt.  Very durable, and m...</td>\n",
              "      <td>1</td>\n",
              "    </tr>\n",
              "    <tr>\n",
              "      <th>4</th>\n",
              "      <td>These are truly wrinkle free and longer than t...</td>\n",
              "      <td>1</td>\n",
              "    </tr>\n",
              "  </tbody>\n",
              "</table>\n",
              "</div>\n",
              "      <button class=\"colab-df-convert\" onclick=\"convertToInteractive('df-208753ab-afa4-4ab6-9927-4f57249baf0d')\"\n",
              "              title=\"Convert this dataframe to an interactive table.\"\n",
              "              style=\"display:none;\">\n",
              "        \n",
              "  <svg xmlns=\"http://www.w3.org/2000/svg\" height=\"24px\"viewBox=\"0 0 24 24\"\n",
              "       width=\"24px\">\n",
              "    <path d=\"M0 0h24v24H0V0z\" fill=\"none\"/>\n",
              "    <path d=\"M18.56 5.44l.94 2.06.94-2.06 2.06-.94-2.06-.94-.94-2.06-.94 2.06-2.06.94zm-11 1L8.5 8.5l.94-2.06 2.06-.94-2.06-.94L8.5 2.5l-.94 2.06-2.06.94zm10 10l.94 2.06.94-2.06 2.06-.94-2.06-.94-.94-2.06-.94 2.06-2.06.94z\"/><path d=\"M17.41 7.96l-1.37-1.37c-.4-.4-.92-.59-1.43-.59-.52 0-1.04.2-1.43.59L10.3 9.45l-7.72 7.72c-.78.78-.78 2.05 0 2.83L4 21.41c.39.39.9.59 1.41.59.51 0 1.02-.2 1.41-.59l7.78-7.78 2.81-2.81c.8-.78.8-2.07 0-2.86zM5.41 20L4 18.59l7.72-7.72 1.47 1.35L5.41 20z\"/>\n",
              "  </svg>\n",
              "      </button>\n",
              "      \n",
              "  <style>\n",
              "    .colab-df-container {\n",
              "      display:flex;\n",
              "      flex-wrap:wrap;\n",
              "      gap: 12px;\n",
              "    }\n",
              "\n",
              "    .colab-df-convert {\n",
              "      background-color: #E8F0FE;\n",
              "      border: none;\n",
              "      border-radius: 50%;\n",
              "      cursor: pointer;\n",
              "      display: none;\n",
              "      fill: #1967D2;\n",
              "      height: 32px;\n",
              "      padding: 0 0 0 0;\n",
              "      width: 32px;\n",
              "    }\n",
              "\n",
              "    .colab-df-convert:hover {\n",
              "      background-color: #E2EBFA;\n",
              "      box-shadow: 0px 1px 2px rgba(60, 64, 67, 0.3), 0px 1px 3px 1px rgba(60, 64, 67, 0.15);\n",
              "      fill: #174EA6;\n",
              "    }\n",
              "\n",
              "    [theme=dark] .colab-df-convert {\n",
              "      background-color: #3B4455;\n",
              "      fill: #D2E3FC;\n",
              "    }\n",
              "\n",
              "    [theme=dark] .colab-df-convert:hover {\n",
              "      background-color: #434B5C;\n",
              "      box-shadow: 0px 1px 3px 1px rgba(0, 0, 0, 0.15);\n",
              "      filter: drop-shadow(0px 1px 2px rgba(0, 0, 0, 0.3));\n",
              "      fill: #FFFFFF;\n",
              "    }\n",
              "  </style>\n",
              "\n",
              "      <script>\n",
              "        const buttonEl =\n",
              "          document.querySelector('#df-208753ab-afa4-4ab6-9927-4f57249baf0d button.colab-df-convert');\n",
              "        buttonEl.style.display =\n",
              "          google.colab.kernel.accessAllowed ? 'block' : 'none';\n",
              "\n",
              "        async function convertToInteractive(key) {\n",
              "          const element = document.querySelector('#df-208753ab-afa4-4ab6-9927-4f57249baf0d');\n",
              "          const dataTable =\n",
              "            await google.colab.kernel.invokeFunction('convertToInteractive',\n",
              "                                                     [key], {});\n",
              "          if (!dataTable) return;\n",
              "\n",
              "          const docLinkHtml = 'Like what you see? Visit the ' +\n",
              "            '<a target=\"_blank\" href=https://colab.research.google.com/notebooks/data_table.ipynb>data table notebook</a>'\n",
              "            + ' to learn more about interactive tables.';\n",
              "          element.innerHTML = '';\n",
              "          dataTable['output_type'] = 'display_data';\n",
              "          await google.colab.output.renderOutput(dataTable, element);\n",
              "          const docLink = document.createElement('div');\n",
              "          docLink.innerHTML = docLinkHtml;\n",
              "          element.appendChild(docLink);\n",
              "        }\n",
              "      </script>\n",
              "    </div>\n",
              "  </div>\n",
              "  "
            ]
          },
          "metadata": {},
          "execution_count": 20
        }
      ],
      "source": [
        "# vectorize test.json data with saved vectorizer\n",
        "vectorizer = pickle.load(open('4483_vectorizer', 'rb'))\n",
        "X_t_vectorized = vectorizer2.transform(X_t).todense()\n",
        "\n",
        "# use the saved model to predict test.json\n",
        "model = pickle.load(open('4483_model', 'rb'))\n",
        "y_pred_t = model.predict(X_t_vectorized)\n",
        "y_pred_t_binary = vector_to_binary(y_pred_t)\n",
        "\n",
        "ds_t['predicted_sentiments']=y_pred_t_binary\n",
        "\n",
        "ds_t.to_csv(\"submission.csv\",encoding=\"utf-8\")\n",
        "\n",
        "ds_t.head()"
      ]
    }
  ],
  "metadata": {
    "colab": {
      "provenance": []
    },
    "kernelspec": {
      "display_name": "Python 3",
      "language": "python",
      "name": "python3"
    },
    "language_info": {
      "codemirror_mode": {
        "name": "ipython",
        "version": 3
      },
      "file_extension": ".py",
      "mimetype": "text/x-python",
      "name": "python",
      "nbconvert_exporter": "python",
      "pygments_lexer": "ipython3",
      "version": "3.6.6"
    }
  },
  "nbformat": 4,
  "nbformat_minor": 0
}